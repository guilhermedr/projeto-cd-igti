{
 "cells": [
  {
   "cell_type": "code",
   "execution_count": 1,
   "id": "8c13bc64",
   "metadata": {},
   "outputs": [],
   "source": [
    "import requests as r\n",
    "import psycopg2\n",
    "from datetime import datetime\n",
    "import json\n",
    "import boto3\n",
    "import pandas as pd\n",
    "from pestomo_utils import aws_credentials\n",
    "from envia_email_utils import send_email"
   ]
  },
  {
   "cell_type": "code",
   "execution_count": 37,
   "id": "d18d0eae",
   "metadata": {},
   "outputs": [],
   "source": [
    "HOSTNAME = 'localhost'\n",
    "USERNAME = 'postgres'\n",
    "PASSWORD = 'postgres'\n",
    "DATABASE_NAME = 'prestomo-db'\n",
    "AWS_BUCKET = 'projeto-aplicado-landing'\n",
    "\n",
    "session = boto3.Session(profile_name='guilherme')\n",
    "s3_session = session.resource('s3')\n",
    "s3_client = session.client(\"s3\")\n",
    "\n",
    "# def get_stock_price(stock):\n",
    "#     _full_endpoint_api = API_URL+stock\n",
    "#     result = r.get(_full_endpoint_api)\n",
    "#     json_result = result.json()\n",
    "#     stock_price = 0\n",
    "#     if 'results' in json_result:\n",
    "#         stock_price = json_result['results'][stock]['price']\n",
    "    \n",
    "#     dict_return = {\n",
    "#         \"price\": stock_price\n",
    "#     }\n",
    "#     return dict_return\n",
    "\n",
    "def load_today_acoes_df():\n",
    "    _today_date = datetime.today().strftime('%d-%m-%Y')\n",
    "    bucket_scripts_object = s3_session.Bucket(AWS_BUCKET)\n",
    "    paginator = s3_client.get_paginator(\"list_objects\")\n",
    "    page_iterator = paginator.paginate(Bucket=AWS_BUCKET, Prefix=f'acoes/{_today_date}')\n",
    "    \n",
    "    storage_options={\n",
    "        \"key\": aws_credentials()['key'],\n",
    "        \"secret\": aws_credentials()['secret'],\n",
    "    }\n",
    "\n",
    "    files_to_load = []\n",
    "    for page in page_iterator:\n",
    "        if \"Contents\" in page:\n",
    "            for obj in page[\"Contents\"]:\n",
    "                if obj['Size'] > 0:\n",
    "                    files_to_load.append(obj['Key'])\n",
    "\n",
    "    dfs = []\n",
    "    for file in files_to_load:\n",
    "        df = pd.read_json(f\"s3://{AWS_BUCKET}/{file}\", storage_options=storage_options, lines=True)\n",
    "        dfs.append(df)\n",
    "\n",
    "    df_final = pd.concat(dfs, axis=0)\n",
    "    return df_final\n",
    "\n",
    "def get_prices_from_alerts(df):\n",
    "    dict_result = {}\n",
    "    _today_date = datetime.today().strftime('%d/%m/%Y')\n",
    "    float_formatter = \"{:_.2f}\".format\n",
    "    \n",
    "    def feed_dict_result(email, nome, sigla, tipo, setado=0.00, fechado=0.00):\n",
    "        if email not in dict_result:\n",
    "            dict_usuario = {\n",
    "                \"nome\": nome,\n",
    "                \"data\": _today_date,\n",
    "                \"alertas\": []\n",
    "            }\n",
    "            dict_result[email] = dict_usuario\n",
    "        \n",
    "        dict_alerta = {\n",
    "            \"sigla\": sigla,\n",
    "            \"tipo\": tipo,\n",
    "            \"setado\": float_formatter(setado).replace('.',',').replace('_','.'),\n",
    "            \"fechado\": float_formatter(fechado).replace('.',',').replace('_','.')\n",
    "        }\n",
    "        dict_result[email]['alertas'].append(dict_alerta)\n",
    "    \n",
    "    with psycopg2.connect( host=HOSTNAME, user=USERNAME, password=PASSWORD, dbname=DATABASE_NAME) as db_connection:\n",
    "        cur = db_connection.cursor()\n",
    "        cur.execute(\"\"\"\n",
    "            SELECT a.usuario_id, \n",
    "                   a.acao_sigla, \n",
    "                   a.valor_minimo, \n",
    "                   a.valor_maximo,\n",
    "                   u.nome,\n",
    "                   u.email\n",
    "              FROM alertas_configurados a join usuarios u on (a.usuario_id = u.id)\n",
    "             ORDER BY a.usuario_id, a.id\n",
    "        \"\"\")\n",
    "        resultado = cur.fetchall()\n",
    "    #     print(resultado)\n",
    "        for usuario_id, acao_sigla, valor_minimo, valor_maximo, nome, email in resultado:\n",
    "            preco_fechamento = df[df['sigla'] == acao_sigla]['price'][0]\n",
    "    #         print(f\"acao_sigla {acao_sigla}\")\n",
    "    #         print(f\"preco_fechamento {preco_fechamento}\")\n",
    "            if valor_minimo != None:\n",
    "    #             print(f\" >> valor_minimo {valor_minimo}\")\n",
    "                if preco_fechamento < valor_minimo:\n",
    "    #                 print(\"Envia email sobre preço mínimo atingido\")\n",
    "                    feed_dict_result(email, nome, acao_sigla, 'minimo', float(valor_minimo), float(preco_fechamento))\n",
    "    #                 print(f\"dict_result {dict_result}\")\n",
    "            if valor_maximo != None:\n",
    "    #             print(f\" >> valor_maximo {valor_maximo}\")\n",
    "                if preco_fechamento > valor_maximo:\n",
    "    #                 print(\"Envia email sobre preço máximo atingido\")\n",
    "                    feed_dict_result(email, nome, acao_sigla, 'maximo', float(valor_maximo), float(preco_fechamento))            \n",
    "    #                 print(f\"dict_result {dict_result}\")\n",
    "\n",
    "    return dict_result\n",
    "\n",
    "df_today_acoes = load_today_acoes_df()\n",
    "dict_emails = get_prices_from_alerts(df_today_acoes)"
   ]
  },
  {
   "cell_type": "code",
   "execution_count": 38,
   "id": "f07a6b34",
   "metadata": {},
   "outputs": [
    {
     "data": {
      "text/plain": [
       "{'guid.rosa@gmail.com': {'nome': 'Guilherme da Rosa',\n",
       "  'data': '08/10/2022',\n",
       "  'alertas': [{'sigla': 'ITSA4',\n",
       "    'tipo': 'maximo',\n",
       "    'setado': '8,67',\n",
       "    'fechado': '10,23'},\n",
       "   {'sigla': 'ENGI11',\n",
       "    'tipo': 'minimo',\n",
       "    'setado': '46,10',\n",
       "    'fechado': '43,12'}]}}"
      ]
     },
     "execution_count": 38,
     "metadata": {},
     "output_type": "execute_result"
    }
   ],
   "source": [
    "dict_emails"
   ]
  },
  {
   "cell_type": "code",
   "execution_count": 4,
   "id": "b068a426",
   "metadata": {},
   "outputs": [],
   "source": [
    "# send_email(dict_emails)"
   ]
  },
  {
   "cell_type": "code",
   "execution_count": null,
   "id": "69c35096",
   "metadata": {},
   "outputs": [],
   "source": []
  },
  {
   "cell_type": "code",
   "execution_count": 31,
   "id": "09c7d6cf",
   "metadata": {},
   "outputs": [],
   "source": [
    "valor = 5451546.1"
   ]
  },
  {
   "cell_type": "code",
   "execution_count": 32,
   "id": "74c9f29e",
   "metadata": {},
   "outputs": [
    {
     "data": {
      "text/plain": [
       "5451546.1"
      ]
     },
     "execution_count": 32,
     "metadata": {},
     "output_type": "execute_result"
    }
   ],
   "source": [
    "round(valor,2)"
   ]
  },
  {
   "cell_type": "code",
   "execution_count": 33,
   "id": "9c0fb8e3",
   "metadata": {},
   "outputs": [],
   "source": [
    "import numpy as np"
   ]
  },
  {
   "cell_type": "code",
   "execution_count": 34,
   "id": "17e189ee",
   "metadata": {},
   "outputs": [
    {
     "data": {
      "text/plain": [
       "5451546.1"
      ]
     },
     "execution_count": 34,
     "metadata": {},
     "output_type": "execute_result"
    }
   ],
   "source": [
    "np.around(valor, decimals=2)"
   ]
  },
  {
   "cell_type": "code",
   "execution_count": 35,
   "id": "13274a62",
   "metadata": {},
   "outputs": [],
   "source": [
    "float_formatter = \"{:_.2f}\".format"
   ]
  },
  {
   "cell_type": "code",
   "execution_count": 36,
   "id": "d87ab5b2",
   "metadata": {},
   "outputs": [
    {
     "data": {
      "text/plain": [
       "'5.451.546,10'"
      ]
     },
     "execution_count": 36,
     "metadata": {},
     "output_type": "execute_result"
    }
   ],
   "source": [
    "float_formatter(valor).replace('.',',').replace('_','.')"
   ]
  },
  {
   "cell_type": "code",
   "execution_count": 18,
   "id": "94a65de9",
   "metadata": {},
   "outputs": [
    {
     "data": {
      "text/plain": [
       "'ola '"
      ]
     },
     "execution_count": 18,
     "metadata": {},
     "output_type": "execute_result"
    }
   ],
   "source": [
    "\"ola bb\".replace('bb','')"
   ]
  },
  {
   "cell_type": "code",
   "execution_count": null,
   "id": "455c7b8c",
   "metadata": {},
   "outputs": [],
   "source": []
  }
 ],
 "metadata": {
  "kernelspec": {
   "display_name": "Python 3 (ipykernel)",
   "language": "python",
   "name": "python3"
  },
  "language_info": {
   "codemirror_mode": {
    "name": "ipython",
    "version": 3
   },
   "file_extension": ".py",
   "mimetype": "text/x-python",
   "name": "python",
   "nbconvert_exporter": "python",
   "pygments_lexer": "ipython3",
   "version": "3.10.6"
  }
 },
 "nbformat": 4,
 "nbformat_minor": 5
}
