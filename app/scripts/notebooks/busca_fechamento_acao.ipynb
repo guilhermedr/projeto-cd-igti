{
 "cells": [
  {
   "cell_type": "code",
   "execution_count": 1,
   "id": "322cf93f",
   "metadata": {},
   "outputs": [],
   "source": [
    "import requests as r\n",
    "import psycopg2\n",
    "from datetime import datetime\n",
    "import json\n",
    "from pestomo_utils import api_key\n",
    "import boto3"
   ]
  },
  {
   "cell_type": "code",
   "execution_count": 3,
   "id": "775e5b36",
   "metadata": {},
   "outputs": [],
   "source": [
    "HOSTNAME = 'localhost'\n",
    "USERNAME = 'postgres'\n",
    "PASSWORD = 'postgres'\n",
    "DATABASE_NAME = 'prestomo-db'\n",
    "API_KEY = api_key()\n",
    "API_URL = f'https://api.hgbrasil.com/finance/stock_price?key={API_KEY}&symbol='\n",
    "AWS_BUCKET = 'projeto-aplicado-landing'\n",
    "\n",
    "session = boto3.Session(profile_name='guilherme')\n",
    "s3_session = session.resource('s3')\n",
    "s3_client = session.client(\"s3\")\n",
    "\n",
    "def insert_s3(file, file_name, aws_bucket, path):\n",
    "    try:\n",
    "        path = f\"{path}/{file_name}\"\n",
    "        s3_session.Object(aws_bucket, path).put(Body=file)\n",
    "    except Exception as e:\n",
    "        raise ValueError(e)\n",
    "\n",
    "def get_stock_price(stock):\n",
    "    _full_endpoint_api = API_URL+stock\n",
    "    result = r.get(_full_endpoint_api)\n",
    "    json_result = result.json()\n",
    "    stock_price = 0\n",
    "    if 'results' in json_result:\n",
    "        stock_price = json_result['results'][stock]['price']\n",
    "    \n",
    "    dict_return = {\n",
    "        \"sigla\": stock,\n",
    "        \"price\": stock_price\n",
    "    }\n",
    "    return dict_return\n",
    "\n",
    "def get_prices_from_alerts():\n",
    "    with psycopg2.connect( host=HOSTNAME, user=USERNAME, password=PASSWORD, dbname=DATABASE_NAME) as db_connection:\n",
    "        cur = db_connection.cursor()\n",
    "        cur.execute( \"SELECT distinct acao_sigla FROM alertas_configurados order by acao_sigla\" )\n",
    "        for sigla in cur.fetchall():\n",
    "            sigla_busca = sigla[0]\n",
    "            stock_price = get_stock_price(sigla_busca)\n",
    "            today_date = datetime.today()\n",
    "            file_name = '{}.json'.format(sigla_busca)\n",
    "            path_to_save = \"acoes/{}\".format(today_date.strftime('%d-%m-%Y'))\n",
    "            insert_s3(json.dumps(stock_price), file_name, AWS_BUCKET, path_to_save)            "
   ]
  },
  {
   "cell_type": "code",
   "execution_count": 4,
   "id": "d5d6b4f1",
   "metadata": {},
   "outputs": [],
   "source": [
    "get_prices_from_alerts()"
   ]
  },
  {
   "cell_type": "code",
   "execution_count": null,
   "id": "6652fbd5",
   "metadata": {},
   "outputs": [],
   "source": []
  },
  {
   "cell_type": "code",
   "execution_count": 10,
   "id": "5aacd7d1",
   "metadata": {},
   "outputs": [],
   "source": [
    "dict = {}"
   ]
  },
  {
   "cell_type": "code",
   "execution_count": 11,
   "id": "6a7ce180",
   "metadata": {},
   "outputs": [],
   "source": [
    "if dict:\n",
    "    print(\"existe dados\")"
   ]
  },
  {
   "cell_type": "code",
   "execution_count": null,
   "id": "cdcf6732",
   "metadata": {},
   "outputs": [],
   "source": []
  }
 ],
 "metadata": {
  "kernelspec": {
   "display_name": "Python 3 (ipykernel)",
   "language": "python",
   "name": "python3"
  },
  "language_info": {
   "codemirror_mode": {
    "name": "ipython",
    "version": 3
   },
   "file_extension": ".py",
   "mimetype": "text/x-python",
   "name": "python",
   "nbconvert_exporter": "python",
   "pygments_lexer": "ipython3",
   "version": "3.10.6"
  }
 },
 "nbformat": 4,
 "nbformat_minor": 5
}
