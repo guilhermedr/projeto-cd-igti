{
 "cells": [
  {
   "cell_type": "code",
   "execution_count": 4,
   "id": "6d0ea3fc",
   "metadata": {},
   "outputs": [],
   "source": [
    "import requests as r\n",
    "import pgdb"
   ]
  },
  {
   "cell_type": "code",
   "execution_count": 22,
   "id": "23b5ff8b",
   "metadata": {},
   "outputs": [],
   "source": [
    "HOSTNAME = 'localhost'\n",
    "USERNAME = 'postgres'\n",
    "PASSWORD = 'postgres'\n",
    "DATABASE_NAME = 'prestomo-db'\n",
    "API_KEY = '835d383c'\n",
    "API_URL = f'https://api.hgbrasil.com/finance/stock_price?key={chave_api}&symbol='\n",
    "\n",
    "db_connection = psycopg2.connect( host=HOSTNAME, user=USERNAME, password=PASSWORD, dbname=DATABASE_NAME)\n",
    "\n",
    "def get_stock_price(stock):\n",
    "    _full_endpoint_api = API_URL+stock\n",
    "    result = r.get(_full_endpoint_api)\n",
    "    return result.json()['results'][stock]['price']\n",
    "\n",
    "def get_prices_from_alerts():\n",
    "    cur = db_connection.cursor()\n",
    "    cur.execute( \"SELECT distinct acao_sigla FROM alertas_configurados order by acao_sigla\" )\n",
    "    for sigla in cur.fetchall():\n",
    "        sigla_busca = sigla[0]\n",
    "        stock_price = get_stock_price(sigla_busca)\n",
    "        print(f'SIGLA {sigla_busca}')\n",
    "        print(f'PREÇO {stock_price}')"
   ]
  },
  {
   "cell_type": "code",
   "execution_count": 23,
   "id": "8b9c810a",
   "metadata": {},
   "outputs": [
    {
     "ename": "KeyError",
     "evalue": "'ITSA4'",
     "output_type": "error",
     "traceback": [
      "\u001b[0;31m---------------------------------------------------------------------------\u001b[0m",
      "\u001b[0;31mKeyError\u001b[0m                                  Traceback (most recent call last)",
      "\u001b[0;32m/tmp/ipykernel_647503/3066610969.py\u001b[0m in \u001b[0;36m<module>\u001b[0;34m\u001b[0m\n\u001b[0;32m----> 1\u001b[0;31m \u001b[0mget_prices_from_alerts\u001b[0m\u001b[0;34m(\u001b[0m\u001b[0;34m)\u001b[0m\u001b[0;34m\u001b[0m\u001b[0;34m\u001b[0m\u001b[0m\n\u001b[0m",
      "\u001b[0;32m/tmp/ipykernel_647503/4096446213.py\u001b[0m in \u001b[0;36mget_prices_from_alerts\u001b[0;34m()\u001b[0m\n\u001b[1;32m     18\u001b[0m     \u001b[0;32mfor\u001b[0m \u001b[0msigla\u001b[0m \u001b[0;32min\u001b[0m \u001b[0mcur\u001b[0m\u001b[0;34m.\u001b[0m\u001b[0mfetchall\u001b[0m\u001b[0;34m(\u001b[0m\u001b[0;34m)\u001b[0m\u001b[0;34m:\u001b[0m\u001b[0;34m\u001b[0m\u001b[0;34m\u001b[0m\u001b[0m\n\u001b[1;32m     19\u001b[0m         \u001b[0msigla_busca\u001b[0m \u001b[0;34m=\u001b[0m \u001b[0msigla\u001b[0m\u001b[0;34m[\u001b[0m\u001b[0;36m0\u001b[0m\u001b[0;34m]\u001b[0m\u001b[0;34m\u001b[0m\u001b[0;34m\u001b[0m\u001b[0m\n\u001b[0;32m---> 20\u001b[0;31m         \u001b[0mstock_price\u001b[0m \u001b[0;34m=\u001b[0m \u001b[0mget_stock_price\u001b[0m\u001b[0;34m(\u001b[0m\u001b[0msigla_busca\u001b[0m\u001b[0;34m)\u001b[0m\u001b[0;34m\u001b[0m\u001b[0;34m\u001b[0m\u001b[0m\n\u001b[0m\u001b[1;32m     21\u001b[0m         \u001b[0mprint\u001b[0m\u001b[0;34m(\u001b[0m\u001b[0;34mf'SIGLA {sigla_busca}'\u001b[0m\u001b[0;34m)\u001b[0m\u001b[0;34m\u001b[0m\u001b[0;34m\u001b[0m\u001b[0m\n\u001b[1;32m     22\u001b[0m         \u001b[0mprint\u001b[0m\u001b[0;34m(\u001b[0m\u001b[0;34mf'PREÇO {stock_price}'\u001b[0m\u001b[0;34m)\u001b[0m\u001b[0;34m\u001b[0m\u001b[0;34m\u001b[0m\u001b[0m\n",
      "\u001b[0;32m/tmp/ipykernel_647503/4096446213.py\u001b[0m in \u001b[0;36mget_stock_price\u001b[0;34m(stock)\u001b[0m\n\u001b[1;32m     11\u001b[0m     \u001b[0m_full_endpoint_api\u001b[0m \u001b[0;34m=\u001b[0m \u001b[0mAPI_URL\u001b[0m\u001b[0;34m+\u001b[0m\u001b[0mstock\u001b[0m\u001b[0;34m\u001b[0m\u001b[0;34m\u001b[0m\u001b[0m\n\u001b[1;32m     12\u001b[0m     \u001b[0mresult\u001b[0m \u001b[0;34m=\u001b[0m \u001b[0mr\u001b[0m\u001b[0;34m.\u001b[0m\u001b[0mget\u001b[0m\u001b[0;34m(\u001b[0m\u001b[0m_full_endpoint_api\u001b[0m\u001b[0;34m)\u001b[0m\u001b[0;34m\u001b[0m\u001b[0;34m\u001b[0m\u001b[0m\n\u001b[0;32m---> 13\u001b[0;31m     \u001b[0;32mreturn\u001b[0m \u001b[0mresult\u001b[0m\u001b[0;34m.\u001b[0m\u001b[0mjson\u001b[0m\u001b[0;34m(\u001b[0m\u001b[0;34m)\u001b[0m\u001b[0;34m[\u001b[0m\u001b[0;34m'results'\u001b[0m\u001b[0;34m]\u001b[0m\u001b[0;34m[\u001b[0m\u001b[0msigla_busca\u001b[0m\u001b[0;34m]\u001b[0m\u001b[0;34m[\u001b[0m\u001b[0;34m'price'\u001b[0m\u001b[0;34m]\u001b[0m\u001b[0;34m\u001b[0m\u001b[0;34m\u001b[0m\u001b[0m\n\u001b[0m\u001b[1;32m     14\u001b[0m \u001b[0;34m\u001b[0m\u001b[0m\n\u001b[1;32m     15\u001b[0m \u001b[0;32mdef\u001b[0m \u001b[0mget_prices_from_alerts\u001b[0m\u001b[0;34m(\u001b[0m\u001b[0;34m)\u001b[0m\u001b[0;34m:\u001b[0m\u001b[0;34m\u001b[0m\u001b[0;34m\u001b[0m\u001b[0m\n",
      "\u001b[0;31mKeyError\u001b[0m: 'ITSA4'"
     ]
    }
   ],
   "source": [
    "get_prices_from_alerts()"
   ]
  },
  {
   "cell_type": "code",
   "execution_count": null,
   "id": "50d9afc0",
   "metadata": {},
   "outputs": [],
   "source": []
  }
 ],
 "metadata": {
  "kernelspec": {
   "display_name": "Python 3 (ipykernel)",
   "language": "python",
   "name": "python3"
  },
  "language_info": {
   "codemirror_mode": {
    "name": "ipython",
    "version": 3
   },
   "file_extension": ".py",
   "mimetype": "text/x-python",
   "name": "python",
   "nbconvert_exporter": "python",
   "pygments_lexer": "ipython3",
   "version": "3.10.6"
  }
 },
 "nbformat": 4,
 "nbformat_minor": 5
}
